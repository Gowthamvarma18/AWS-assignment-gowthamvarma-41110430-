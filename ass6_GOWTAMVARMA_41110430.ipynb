{
  "nbformat": 4,
  "nbformat_minor": 0,
  "metadata": {
    "colab": {
      "provenance": [],
      "authorship_tag": "ABX9TyNCWmLVdmzErxOktrRVkzjI",
      "include_colab_link": true
    },
    "kernelspec": {
      "name": "python3",
      "display_name": "Python 3"
    },
    "language_info": {
      "name": "python"
    }
  },
  "cells": [
    {
      "cell_type": "markdown",
      "metadata": {
        "id": "view-in-github",
        "colab_type": "text"
      },
      "source": [
        "<a href=\"https://colab.research.google.com/github/Gowthamvarma18/AWS-assignment-gowthamvarma-41110430-/blob/main/ass6_GOWTAMVARMA_41110430.ipynb\" target=\"_parent\"><img src=\"https://colab.research.google.com/assets/colab-badge.svg\" alt=\"Open In Colab\"/></a>"
      ]
    },
    {
      "cell_type": "code",
      "execution_count": null,
      "metadata": {
        "id": "Vm6FvVpqNWkR"
      },
      "outputs": [],
      "source": [
        ">>> # cow bull prog as a func\n",
        ">>> # write palindrome and fibo func\n",
        ">>> # create a func to replicate range\n",
        ">>> # capitalize"
      ]
    },
    {
      "cell_type": "code",
      "source": [
        "# cow bull prog as a func\n",
        "def cow_bull(secret, guess):\n",
        "    cow = 0\n",
        "    bull = 0\n",
        "    for i in range(len(secret)):\n",
        "        if secret[i] == guess[i]:\n",
        "            cow += 1\n",
        "        elif secret[i] in guess:\n",
        "            bull += 1\n",
        "    return cow, bull\n",
        "\n",
        "# Example usage:\n",
        "secret_code = \"1234\"\n",
        "guess_code = \"1256\"\n",
        "result = cow_bull(secret_code, guess_code)\n",
        "print(\"Cows:\", result[0])\n",
        "print(\"Bulls:\", result[1])\n"
      ],
      "metadata": {
        "colab": {
          "base_uri": "https://localhost:8080/"
        },
        "id": "yKLcE5VaNXe9",
        "outputId": "90ddbc00-8976-4fbf-e69e-36e26c5c2fca"
      },
      "execution_count": null,
      "outputs": [
        {
          "output_type": "stream",
          "name": "stdout",
          "text": [
            "Cows: 2\n",
            "Bulls: 0\n"
          ]
        }
      ]
    },
    {
      "cell_type": "code",
      "source": [
        "# write palindrome and fibo func\n",
        "def is_palindrome(s):\n",
        "    return s == s[::-1]\n",
        "\n",
        "# Example usage:\n",
        "print(is_palindrome(\"radar\"))  # Output: True\n",
        "print(is_palindrome(\"hello\"))  # Output: False"
      ],
      "metadata": {
        "colab": {
          "base_uri": "https://localhost:8080/"
        },
        "id": "SsPlh-bsNZfh",
        "outputId": "feec65e4-657d-46e7-d0ea-9281b3f9a29e"
      },
      "execution_count": null,
      "outputs": [
        {
          "output_type": "stream",
          "name": "stdout",
          "text": [
            "True\n",
            "False\n"
          ]
        }
      ]
    },
    {
      "cell_type": "code",
      "source": [
        "# create a func to replicate range\n",
        "def my_range(start, stop=None, step=1):\n",
        "    if stop is None:\n",
        "        stop = start\n",
        "        start = 0\n",
        "    result = []\n",
        "    while start < stop:\n",
        "        result.append(start)\n",
        "        start += step\n",
        "    return result\n",
        "\n",
        "# Example usage:\n",
        "print(my_range(5))         # Output: [0, 1, 2, 3, 4]\n",
        "print(my_range(1, 10, 2))  # Output: [1, 3, 5, 7, 9]"
      ],
      "metadata": {
        "colab": {
          "base_uri": "https://localhost:8080/"
        },
        "id": "_qunS6nTNd3A",
        "outputId": "68037cc3-7fa2-4629-f0fd-c9fb1b782bc6"
      },
      "execution_count": null,
      "outputs": [
        {
          "output_type": "stream",
          "name": "stdout",
          "text": [
            "[0, 1, 2, 3, 4]\n",
            "[1, 3, 5, 7, 9]\n"
          ]
        }
      ]
    },
    {
      "cell_type": "code",
      "source": [
        "# capitalize\n",
        "def my_capitalize(s):\n",
        "    return s[0].upper() + s[1:]\n",
        "\n",
        "# Example usage:\n",
        "print(my_capitalize(\"hello\"))  # Output: Hello\n",
        "print(my_capitalize(\"world\"))  # Output: World\n"
      ],
      "metadata": {
        "colab": {
          "base_uri": "https://localhost:8080/"
        },
        "id": "H8jhYL22Ng_q",
        "outputId": "01c1ffe1-d686-4682-be44-92bcae8149af"
      },
      "execution_count": null,
      "outputs": [
        {
          "output_type": "stream",
          "name": "stdout",
          "text": [
            "Hello\n",
            "World\n"
          ]
        }
      ]
    }
  ]
}