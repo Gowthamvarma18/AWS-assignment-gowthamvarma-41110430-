{
  "nbformat": 4,
  "nbformat_minor": 0,
  "metadata": {
    "colab": {
      "provenance": [],
      "authorship_tag": "ABX9TyMWM9OY54v4BO3M1tdHxsXW",
      "include_colab_link": true
    },
    "kernelspec": {
      "name": "python3",
      "display_name": "Python 3"
    },
    "language_info": {
      "name": "python"
    }
  },
  "cells": [
    {
      "cell_type": "markdown",
      "metadata": {
        "id": "view-in-github",
        "colab_type": "text"
      },
      "source": [
        "<a href=\"https://colab.research.google.com/github/Gowthamvarma18/AWS-assignment-gowthamvarma-41110430-/blob/main/ass5_GOWTAMVARMA_41110430.ipynb\" target=\"_parent\"><img src=\"https://colab.research.google.com/assets/colab-badge.svg\" alt=\"Open In Colab\"/></a>"
      ]
    },
    {
      "cell_type": "code",
      "execution_count": null,
      "metadata": {
        "colab": {
          "base_uri": "https://localhost:8080/"
        },
        "id": "0aNwjAWJZuE4",
        "outputId": "a86506f9-cea0-4806-e7bc-6941f9815bb4"
      },
      "outputs": [
        {
          "output_type": "stream",
          "name": "stdout",
          "text": [
            "somE namE\n"
          ]
        }
      ],
      "source": [
        "  Name = \"some name\"\n",
        "Name = \"some name\"\n",
        "\n",
        "# Convert above string into upper, lower, and capitalize\n",
        "upper_case_name = Name.upper()\n",
        "lower_case_name = Name.lower()\n",
        "capitalized_name = Name.capitalize()\n",
        "\n",
        "# Replace 'e' with 'E' using attribute\n",
        "replaced_name = Name.replace('e', 'E')\n",
        "print(replaced_name)"
      ]
    },
    {
      "cell_type": "code",
      "source": [
        "# 2) L = [1,2,3]\n",
        "L = [1, 2, 3]\n",
        "\n",
        "# Extend above list by using [5,6,7]\n",
        "L.extend([5, 6, 7])\n",
        "\n",
        "# Remove 5th value\n",
        "del L[4]\n",
        "print(L)"
      ],
      "metadata": {
        "colab": {
          "base_uri": "https://localhost:8080/"
        },
        "id": "rCB6p-jHMyj9",
        "outputId": "407be032-88a6-4282-e719-a761c4381a78"
      },
      "execution_count": null,
      "outputs": [
        {
          "output_type": "stream",
          "name": "stdout",
          "text": [
            "[1, 2, 3, 5, 7]\n"
          ]
        }
      ]
    },
    {
      "cell_type": "code",
      "source": [
        "  #3)d = {'mango': 10, 'banana': 0, 'apple': 15, 'orange': 0, 'pineapple': 20}\n",
        "d = {'mango': 10, 'banana': 0, 'apple': 15, 'orange': 0, 'pineapple': 20}\n",
        "\n",
        "# Remove out of stock fruits from above dictionary\n",
        "d = {fruit: quantity for fruit, quantity in d.items() if quantity != 0}\n",
        "print(d)\n",
        "\n",
        "# Update mango quantity into 15 & decrease pineapple by 5\n",
        "d['mango'] = 15\n",
        "d['pineapple'] -= 5\n",
        "\n",
        "# Try pop, remove in all 3 mutable data types (list, dict, set)\n",
        "\n",
        "# For list\n",
        "L.pop()  # Removes the last element\n",
        "print(L)\n",
        "\n",
        "# For dictionary\n",
        "removed_item = d.pop('apple')  # Removes the item with key 'apple'\n",
        "print(d)\n",
        "\n",
        "# For set\n",
        "s = {1, 2, 3}\n",
        "s.remove(2)  # Removes the element 2 from the set\n",
        "print(s)"
      ],
      "metadata": {
        "colab": {
          "base_uri": "https://localhost:8080/"
        },
        "id": "LstWIPnZM3fi",
        "outputId": "2c42d78d-acfa-4e91-bbf6-0f184c809a52"
      },
      "execution_count": null,
      "outputs": [
        {
          "output_type": "stream",
          "name": "stdout",
          "text": [
            "{'mango': 10, 'apple': 15, 'pineapple': 20}\n",
            "[1, 2, 3]\n",
            "{'mango': 15, 'pineapple': 15}\n",
            "{1, 3}\n"
          ]
        }
      ]
    }
  ]
}