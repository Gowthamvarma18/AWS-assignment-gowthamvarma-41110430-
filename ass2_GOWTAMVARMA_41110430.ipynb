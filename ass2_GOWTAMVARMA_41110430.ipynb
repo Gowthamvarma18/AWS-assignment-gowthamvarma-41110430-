{
  "nbformat": 4,
  "nbformat_minor": 0,
  "metadata": {
    "colab": {
      "provenance": [],
      "authorship_tag": "ABX9TyOPrXg5Pwr/e4IwTEd7Iz53",
      "include_colab_link": true
    },
    "kernelspec": {
      "name": "python3",
      "display_name": "Python 3"
    },
    "language_info": {
      "name": "python"
    }
  },
  "cells": [
    {
      "cell_type": "markdown",
      "metadata": {
        "id": "view-in-github",
        "colab_type": "text"
      },
      "source": [
        "<a href=\"https://colab.research.google.com/github/Gowthamvarma18/AWS-assignment-gowthamvarma-41110430-/blob/main/ass2_GOWTAMVARMA_41110430.ipynb\" target=\"_parent\"><img src=\"https://colab.research.google.com/assets/colab-badge.svg\" alt=\"Open In Colab\"/></a>"
      ]
    },
    {
      "cell_type": "code",
      "execution_count": null,
      "metadata": {
        "colab": {
          "base_uri": "https://localhost:8080/"
        },
        "id": "K1CiPq4ZKpDs",
        "outputId": "80acb728-0d03-471b-f4b5-c0d4bddb58f0"
      },
      "outputs": [
        {
          "output_type": "stream",
          "name": "stdout",
          "text": [
            "Hello\n",
            "HELLO\n",
            "hello\n"
          ]
        }
      ],
      "source": [
        "def capitalize(word):\n",
        "    return word[0].upper() + word[1:]\n",
        "\n",
        "def my_upper(word):\n",
        "    return word.upper()\n",
        "\n",
        "def my_lower(word):\n",
        "    return word.lower()\n",
        "\n",
        "# Test the functions\n",
        "print(capitalize(\"hello\"))  # Outputs: Hello\n",
        "print(my_upper(\"hello\"))    # Outputs: HELLO\n",
        "print(my_lower(\"HELLO\"))    # Outputs: hello"
      ]
    },
    {
      "cell_type": "code",
      "source": [
        "sequence = [1, 2, 34, 65, 1, 2, 65, 66, 44, 33, 22, 87, 123412, 9, 78, 76]\n",
        "odd_sequence = [num for num in sequence if num % 2 != 0]\n",
        "print(odd_sequence)\n"
      ],
      "metadata": {
        "colab": {
          "base_uri": "https://localhost:8080/"
        },
        "id": "1igFY9NMKwKF",
        "outputId": "10e01ba0-82cf-4d0c-de69-3273449656da"
      },
      "execution_count": null,
      "outputs": [
        {
          "output_type": "stream",
          "name": "stdout",
          "text": [
            "[1, 65, 1, 65, 33, 87, 9]\n"
          ]
        }
      ]
    },
    {
      "cell_type": "code",
      "source": [
        "fruits = {'apple': 10, 'mango': 20, 'pineapple': 25, 'orange': 30, 'strawberry': 50, 'jackfruit': 10}\n",
        "fruits_more_than_20 = {key: value for key, value in fruits.items() if value > 20}\n",
        "print(fruits_more_than_20)\n"
      ],
      "metadata": {
        "colab": {
          "base_uri": "https://localhost:8080/"
        },
        "id": "xnJQAp92WZ4E",
        "outputId": "73763fb4-3b2c-4084-b527-b7247e0f2f71"
      },
      "execution_count": null,
      "outputs": [
        {
          "output_type": "stream",
          "name": "stdout",
          "text": [
            "{'pineapple': 25, 'orange': 30, 'strawberry': 50}\n"
          ]
        }
      ]
    }
  ]
}