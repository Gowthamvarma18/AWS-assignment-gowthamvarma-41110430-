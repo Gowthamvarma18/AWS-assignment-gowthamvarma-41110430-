{
  "nbformat": 4,
  "nbformat_minor": 0,
  "metadata": {
    "colab": {
      "provenance": [],
      "authorship_tag": "ABX9TyNFX/UNQw/w5ov9jCHvbKB/",
      "include_colab_link": true
    },
    "kernelspec": {
      "name": "python3",
      "display_name": "Python 3"
    },
    "language_info": {
      "name": "python"
    }
  },
  "cells": [
    {
      "cell_type": "markdown",
      "metadata": {
        "id": "view-in-github",
        "colab_type": "text"
      },
      "source": [
        "<a href=\"https://colab.research.google.com/github/Gowthamvarma18/AWS-assignment-gowthamvarma-41110430-/blob/main/ass3_GOWTAMVARMA_41110430.ipynb\" target=\"_parent\"><img src=\"https://colab.research.google.com/assets/colab-badge.svg\" alt=\"Open In Colab\"/></a>"
      ]
    },
    {
      "cell_type": "code",
      "execution_count": null,
      "metadata": {
        "id": "dhQKiBEkLKfg"
      },
      "outputs": [],
      "source": [
        "#Examples of Concatenation\n",
        "# Concatenating strings\n",
        "str1 = \"Hello\"\n",
        "str2 = \"World\"\n",
        "concatenated_string = str1 + \" \" + str2\n",
        "print(concatenated_string)\n",
        "\n",
        "# Concatenating lists\n",
        "list1 = [1, 2, 3]\n",
        "list2 = [4, 5, 6]\n",
        "concatenated_list = list1 + list2\n",
        "print(concatenated_list)"
      ]
    },
    {
      "cell_type": "code",
      "source": [
        "#Examples for Each Formatting Technique\n",
        "# Using %-formatting\n",
        "name = \"John\"\n",
        "age = 30\n",
        "formatted_string = \"My name is %s and I am %d years old.\" % (name, age)\n",
        "print(formatted_string)\n",
        "\n",
        "# Using str.format()\n",
        "name = \"Jane\"\n",
        "age = 25\n",
        "formatted_string = \"My name is {} and I am {} years old.\".format(name, age)\n",
        "print(formatted_string)\n",
        "\n",
        "# Using f-strings (Python 3.6+)\n",
        "name = \"Alice\"\n",
        "age = 35\n",
        "formatted_string = f\"My name is {name} and I am {age} years old.\"\n",
        "print(formatted_string)\n"
      ],
      "metadata": {
        "colab": {
          "base_uri": "https://localhost:8080/"
        },
        "id": "T7mR7Yv_LQf5",
        "outputId": "f72dd105-cced-4ee2-a44c-9cac803c5faa"
      },
      "execution_count": null,
      "outputs": [
        {
          "output_type": "stream",
          "name": "stdout",
          "text": [
            "My name is John and I am 30 years old.\n",
            "My name is Jane and I am 25 years old.\n",
            "My name is Alice and I am 35 years old.\n"
          ]
        }
      ]
    },
    {
      "cell_type": "code",
      "source": [
        "# Using str.format() with formatting options\n",
        "num = 123.456789\n",
        "formatted_string = \"Formatted number: {:.2f}\".format(num)  # Two decimal places\n",
        "print(formatted_string)\n",
        "\n",
        "# Using f-strings with formatting options\n",
        "num = 12345.6789\n",
        "formatted_string = f\"Formatted number: {num:,.2f}\"  # Comma as a thousands separator, two decimal places\n",
        "print(formatted_string)"
      ],
      "metadata": {
        "colab": {
          "base_uri": "https://localhost:8080/"
        },
        "id": "_F9FL6zaLQrD",
        "outputId": "b2c0fa3e-ae62-43b6-fbdb-4d4e6b316031"
      },
      "execution_count": null,
      "outputs": [
        {
          "output_type": "stream",
          "name": "stdout",
          "text": [
            "Formatted number: 123.46\n",
            "Formatted number: 12,345.68\n"
          ]
        }
      ]
    },
    {
      "cell_type": "code",
      "source": [
        "# Addition\n",
        "result_addition = 5 + 3\n",
        "print(\"Addition:\", result_addition)\n",
        "\n",
        "# Subtraction\n",
        "result_subtraction = 8 - 2\n",
        "print(\"Subtraction:\", result_subtraction)\n",
        "\n",
        "# Multiplication\n",
        "result_multiplication = 4 * 6\n",
        "print(\"Multiplication:\", result_multiplication)\n",
        "\n",
        "# Division\n",
        "result_division = 10 / 2\n",
        "print(\"Division:\", result_division)\n",
        "\n",
        "# Modulus\n",
        "result_modulus = 17 % 5\n",
        "print(\"Modulus:\", result_modulus)\n",
        "\n",
        "# Exponentiation\n",
        "result_exponentiation = 2 ** 3\n",
        "print(\"Exponentiation:\", result_exponentiation)\n"
      ],
      "metadata": {
        "colab": {
          "base_uri": "https://localhost:8080/"
        },
        "id": "V8Qc-vsILYZA",
        "outputId": "46fc3f7a-cef4-4608-80fe-fd22876122a8"
      },
      "execution_count": null,
      "outputs": [
        {
          "output_type": "stream",
          "name": "stdout",
          "text": [
            "Addition: 8\n",
            "Subtraction: 6\n",
            "Multiplication: 24\n",
            "Division: 5.0\n",
            "Modulus: 2\n",
            "Exponentiation: 8\n"
          ]
        }
      ]
    },
    {
      "cell_type": "code",
      "source": [
        "# Example for -=\n",
        "x = 10\n",
        "x -= 5\n",
        "print(\"-= operator:\", x)  # Outputs: 5\n",
        "\n",
        "# Example for *=\n",
        "y = 3\n",
        "y *= 4\n",
        "print(\"*= operator:\", y)  # Outputs: 12\n",
        "\n",
        "# Example for /=\n",
        "z = 20\n",
        "z /= 5\n",
        "print(\"/= operator:\", z)  # Outputs: 4.0\n"
      ],
      "metadata": {
        "colab": {
          "base_uri": "https://localhost:8080/"
        },
        "id": "GjEdmqEQLpAe",
        "outputId": "488fcde9-479f-4f3e-b20f-911eddebbdf8"
      },
      "execution_count": null,
      "outputs": [
        {
          "output_type": "stream",
          "name": "stdout",
          "text": [
            "-= operator: 5\n",
            "*= operator: 12\n",
            "/= operator: 4.0\n"
          ]
        }
      ]
    }
  ]
}