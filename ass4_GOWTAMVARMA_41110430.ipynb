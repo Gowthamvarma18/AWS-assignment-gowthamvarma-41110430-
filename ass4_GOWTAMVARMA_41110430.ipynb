{
  "nbformat": 4,
  "nbformat_minor": 0,
  "metadata": {
    "colab": {
      "provenance": [],
      "authorship_tag": "ABX9TyOzy08otDss+bXroVKhZ8sh",
      "include_colab_link": true
    },
    "kernelspec": {
      "name": "python3",
      "display_name": "Python 3"
    },
    "language_info": {
      "name": "python"
    }
  },
  "cells": [
    {
      "cell_type": "markdown",
      "metadata": {
        "id": "view-in-github",
        "colab_type": "text"
      },
      "source": [
        "<a href=\"https://colab.research.google.com/github/Gowthamvarma18/AWS-assignment-gowthamvarma-41110430-/blob/main/ass4_GOWTAMVARMA_41110430.ipynb\" target=\"_parent\"><img src=\"https://colab.research.google.com/assets/colab-badge.svg\" alt=\"Open In Colab\"/></a>"
      ]
    },
    {
      "cell_type": "code",
      "execution_count": 1,
      "metadata": {
        "id": "9BtknKi1LxaZ",
        "colab": {
          "base_uri": "https://localhost:8080/"
        },
        "outputId": "0f4f510a-84dc-4a3f-e22c-333e00ec6dfc"
      },
      "outputs": [
        {
          "output_type": "stream",
          "name": "stdout",
          "text": [
            "Original String: gowtham varma\n",
            "Upper Case: GOWTHAM VARMA\n",
            "Lower Case: gowtham varma\n",
            "Capitalized: Gowtham varma\n",
            "Replacing 'e' with 'E': gowtham varma\n"
          ]
        }
      ],
      "source": [
        "# String\n",
        "name = \"gowtham varma\"\n",
        "print(\"Original String:\", name)\n",
        "print(\"Upper Case:\", name.upper())\n",
        "print(\"Lower Case:\", name.lower())\n",
        "print(\"Capitalized:\", name.capitalize())\n",
        "print(\"Replacing 'e' with 'E':\", name.replace('e', 'E'))"
      ]
    },
    {
      "cell_type": "code",
      "source": [
        "# List\n",
        "L = [1, 2, 3]\n",
        "print(\"Original List:\", L)\n",
        "L.extend([5, 6, 7])\n",
        "print(\"Extended List:\", L)\n",
        "del L[4]\n",
        "print(\"List after removing 5th value:\", L)"
      ],
      "metadata": {
        "colab": {
          "base_uri": "https://localhost:8080/"
        },
        "id": "qEn2cyPDRgiH",
        "outputId": "3abf0cf5-4478-43b4-a7f7-21727604eb16"
      },
      "execution_count": 2,
      "outputs": [
        {
          "output_type": "stream",
          "name": "stdout",
          "text": [
            "Original List: [1, 2, 3]\n",
            "Extended List: [1, 2, 3, 5, 6, 7]\n",
            "List after removing 5th value: [1, 2, 3, 5, 7]\n"
          ]
        }
      ]
    },
    {
      "cell_type": "code",
      "source": [
        "# Dictionary\n",
        "d = {'mango': 10, 'banana': 0, 'apple': 15, 'orange': 0, 'pineapple': 20}\n",
        "print(\"Original Dictionary:\", d)\n",
        "d = {key: value for key, value in d.items() if value != 0}\n",
        "print(\"Dictionary after removing out of stock fruits:\", d)\n",
        "d['mango'] = 15\n",
        "d['pineapple'] -= 5\n",
        "print(\"Updated Dictionary:\", d)"
      ],
      "metadata": {
        "colab": {
          "base_uri": "https://localhost:8080/"
        },
        "id": "mxY7nVkKRjXd",
        "outputId": "0ac93996-da57-4da3-c139-05bbb11dd4b2"
      },
      "execution_count": 3,
      "outputs": [
        {
          "output_type": "stream",
          "name": "stdout",
          "text": [
            "Original Dictionary: {'mango': 10, 'banana': 0, 'apple': 15, 'orange': 0, 'pineapple': 20}\n",
            "Dictionary after removing out of stock fruits: {'mango': 10, 'apple': 15, 'pineapple': 20}\n",
            "Updated Dictionary: {'mango': 15, 'apple': 15, 'pineapple': 15}\n"
          ]
        }
      ]
    },
    {
      "cell_type": "code",
      "source": [
        "# Using pop, remove in all 3 mutable data types (list, dict, set)\n",
        "# For list\n",
        "L = [1, 2, 3]\n",
        "print(\"Original List:\", L)\n",
        "L.pop()  # Removes the last element\n",
        "print(\"List after pop operation:\", L)"
      ],
      "metadata": {
        "colab": {
          "base_uri": "https://localhost:8080/"
        },
        "id": "S0YaFddtRj_f",
        "outputId": "a9c0bafa-ab58-45ab-c238-3e7721b841de"
      },
      "execution_count": 4,
      "outputs": [
        {
          "output_type": "stream",
          "name": "stdout",
          "text": [
            "Original List: [1, 2, 3]\n",
            "List after pop operation: [1, 2]\n"
          ]
        }
      ]
    },
    {
      "cell_type": "code",
      "source": [
        "d = {'a': 1, 'b': 2, 'c': 3}\n",
        "print(\"Original Dictionary:\", d)\n",
        "removed_item = d.pop('b')\n",
        "print(\"Dictionary after pop operation:\", d)\n",
        "print(\"Removed Item:\", removed_item)"
      ],
      "metadata": {
        "colab": {
          "base_uri": "https://localhost:8080/"
        },
        "id": "3xy_pxR-Rmal",
        "outputId": "920dc2f8-81a9-4fe9-9412-6efc62041098"
      },
      "execution_count": 5,
      "outputs": [
        {
          "output_type": "stream",
          "name": "stdout",
          "text": [
            "Original Dictionary: {'a': 1, 'b': 2, 'c': 3}\n",
            "Dictionary after pop operation: {'a': 1, 'c': 3}\n",
            "Removed Item: 2\n"
          ]
        }
      ]
    },
    {
      "cell_type": "code",
      "source": [
        "# For set\n",
        "s = {1, 2, 3}\n",
        "print(\"Original Set:\", s)\n",
        "s.remove(2)\n",
        "print(\"Set after remove operation:\", s)"
      ],
      "metadata": {
        "colab": {
          "base_uri": "https://localhost:8080/"
        },
        "id": "kIHvUIbZRrKj",
        "outputId": "a1e4dd8a-da80-450f-dbd5-d4cf96ceb148"
      },
      "execution_count": 6,
      "outputs": [
        {
          "output_type": "stream",
          "name": "stdout",
          "text": [
            "Original Set: {1, 2, 3}\n",
            "Set after remove operation: {1, 3}\n"
          ]
        }
      ]
    }
  ]
}